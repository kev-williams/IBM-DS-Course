{
 "cells": [
  {
   "cell_type": "markdown",
   "id": "b3c9248d-3871-46e6-b65e-c87acbfbec47",
   "metadata": {},
   "source": [
    "# Data Science Tools and Ecosystem"
   ]
  },
  {
   "cell_type": "markdown",
   "id": "79d5c0eb-126c-47e4-a61b-ea3481ce20de",
   "metadata": {},
   "source": [
    "In this notebook, Data Science Tools and Ecosystem are summarized."
   ]
  },
  {
   "cell_type": "markdown",
   "id": "0a7f421f-1487-49db-b15f-c6dbbd0eab7a",
   "metadata": {},
   "source": [
    "**Objectives:**\n",
    "1. Popular Languages\n",
    "2. Libraries\n",
    "3. Tools\n",
    "4. Expressions"
   ]
  },
  {
   "cell_type": "markdown",
   "id": "cfc6876b-0db1-42ff-a0e1-f5e2c92358df",
   "metadata": {},
   "source": [
    "Some of the popular languages that Data Scientists use are:\n",
    "1. Python\n",
    "2. R\n",
    "3. SQL\n",
    "4. Java\n",
    "5. Julia"
   ]
  },
  {
   "cell_type": "markdown",
   "id": "21bbc5e7-dfa5-476c-ba3a-48562fabdfcf",
   "metadata": {},
   "source": [
    "Some of the commonly used libraries used by Data Scientists include:\n",
    "1. Pandas\n",
    "2. Numpy\n",
    "3. TensorFlow\n",
    "4. Matplotlib\n",
    "5. Scikit\n",
    "6. PyTorch\n",
    "7. Plotly\n",
    "8. Keras"
   ]
  },
  {
   "cell_type": "markdown",
   "id": "a8703d15-1853-4c95-8890-22b78b6290ce",
   "metadata": {},
   "source": [
    "| Data Science Tools |\n",
    "| ------ |\n",
    "| Jupyter Notebook |\n",
    "| RStudio |\n",
    "| Apache Spark |"
   ]
  },
  {
   "cell_type": "markdown",
   "id": "59ff4822-9a8a-46b9-99a6-f973fbea628c",
   "metadata": {},
   "source": [
    "### Below are a few examples of evaluating arithmetic expressions in Python"
   ]
  },
  {
   "cell_type": "code",
   "execution_count": 11,
   "id": "654b4e48-2e40-4686-bd9d-36810751e978",
   "metadata": {},
   "outputs": [
    {
     "name": "stdout",
     "output_type": "stream",
     "text": [
      "(3*4)+5 = 17\n"
     ]
    }
   ],
   "source": [
    "# This a simple arithmetic expression to mutiply then add integers\n",
    "x = (3*4)+5\n",
    "print(\"(3*4)+5 =\",x)"
   ]
  },
  {
   "cell_type": "code",
   "execution_count": 16,
   "id": "79223b1b-e585-4026-b52d-f015d849ab78",
   "metadata": {},
   "outputs": [
    {
     "name": "stdin",
     "output_type": "stream",
     "text": [
      "Enter Minutes:  200\n"
     ]
    },
    {
     "name": "stdout",
     "output_type": "stream",
     "text": [
      "Total hours: 0.3\n"
     ]
    }
   ],
   "source": [
    "# This will convert 200 minutes to hours by diving by 60\n",
    "\n",
    "m = int(input(\"Enter Minutes: \"))\n",
    "h=60/m\n",
    "print(\"Total hours:\",h)"
   ]
  },
  {
   "cell_type": "markdown",
   "id": "ee0804bc-6a80-423d-b775-8d4193710b78",
   "metadata": {},
   "source": [
    "## Author\n",
    "Kevin Williams"
   ]
  },
  {
   "cell_type": "code",
   "execution_count": null,
   "id": "c7caf50b-17f5-4207-8105-7ce58af5e2b4",
   "metadata": {},
   "outputs": [],
   "source": []
  }
 ],
 "metadata": {
  "kernelspec": {
   "display_name": "Python 3 (ipykernel)",
   "language": "python",
   "name": "python3"
  },
  "language_info": {
   "codemirror_mode": {
    "name": "ipython",
    "version": 3
   },
   "file_extension": ".py",
   "mimetype": "text/x-python",
   "name": "python",
   "nbconvert_exporter": "python",
   "pygments_lexer": "ipython3",
   "version": "3.13.1"
  }
 },
 "nbformat": 4,
 "nbformat_minor": 5
}
